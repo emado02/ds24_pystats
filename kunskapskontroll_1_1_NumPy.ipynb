{
 "cells": [
  {
   "cell_type": "markdown",
   "id": "dacf74e6",
   "metadata": {},
   "source": [
    "# NumPy"
   ]
  },
  {
   "cell_type": "markdown",
   "id": "01b2bf34",
   "metadata": {},
   "source": [
    "Read the links: https://numpy.org/doc/stable/user/quickstart.html  and https://numpy.org/doc/stable/user/basics.broadcasting.html  before solving the exercises. "
   ]
  },
  {
   "cell_type": "code",
   "execution_count": null,
   "id": "1f79e4a6",
   "metadata": {},
   "outputs": [],
   "source": [
    "import numpy as np"
   ]
  },
  {
   "cell_type": "markdown",
   "id": "7dae6889",
   "metadata": {},
   "source": [
    "### Print out the dimension (number of axes), shape, size and the datatype of the matrix A."
   ]
  },
  {
   "cell_type": "code",
   "execution_count": 3,
   "id": "7b3678cd",
   "metadata": {},
   "outputs": [],
   "source": [
    "A = np.arange(1, 16).reshape(3,5)"
   ]
  },
  {
   "cell_type": "code",
   "execution_count": 2,
   "id": "31d39235",
   "metadata": {},
   "outputs": [
    {
     "name": "stdout",
     "output_type": "stream",
     "text": [
      "Antal axlar (dimensioner): 2\n",
      "Form på matrisen: (3, 5)\n",
      "Storlek (antal element): 15\n",
      "Datatyp för elementen: int32\n"
     ]
    }
   ],
   "source": [
    "import numpy as np\n",
    "\n",
    "# Skapar matris A\n",
    "A = np.arange(1, 16).reshape(3, 5)\n",
    "\n",
    "# Skriver ut information om matrisen\n",
    "print(\"Antal axlar (dimensioner):\", A.ndim)\n",
    "print(\"Form på matrisen:\", A.shape)\n",
    "print(\"Storlek (antal element):\", A.size)\n",
    "print(\"Datatyp för elementen:\", A.dtype)\n"
   ]
  },
  {
   "cell_type": "markdown",
   "id": "e56d2a96",
   "metadata": {},
   "source": [
    "### Do the following computations on the matrices B and C: \n",
    "* Elementwise subtraction. \n",
    "* Elementwise multiplication. \n",
    "* Matrix multiplication (by default you should use the @ operator)."
   ]
  },
  {
   "cell_type": "code",
   "execution_count": null,
   "id": "a7053fbb",
   "metadata": {},
   "outputs": [],
   "source": [
    "B = np.arange(1, 10).reshape(3, 3)\n",
    "C = np.ones((3, 3))*2\n",
    "\n",
    "print(B)\n",
    "print()\n",
    "print(C)"
   ]
  },
  {
   "cell_type": "code",
   "execution_count": 4,
   "id": "3cd794ae",
   "metadata": {},
   "outputs": [
    {
     "name": "stdout",
     "output_type": "stream",
     "text": [
      "Matris B:\n",
      "[[1 2 3]\n",
      " [4 5 6]\n",
      " [7 8 9]]\n",
      "\n",
      "Matris C:\n",
      "[[2. 2. 2.]\n",
      " [2. 2. 2.]\n",
      " [2. 2. 2.]]\n",
      "\n",
      "Elementvis subtraktion (B - C):\n",
      "[[-1.  0.  1.]\n",
      " [ 2.  3.  4.]\n",
      " [ 5.  6.  7.]]\n",
      "\n",
      "Elementvis multiplikation (B * C):\n",
      "[[ 2.  4.  6.]\n",
      " [ 8. 10. 12.]\n",
      " [14. 16. 18.]]\n",
      "\n",
      "Matris-multiplikation (B @ C):\n",
      "[[12. 12. 12.]\n",
      " [30. 30. 30.]\n",
      " [48. 48. 48.]]\n"
     ]
    }
   ],
   "source": [
    "import numpy as np\n",
    "\n",
    "# Definierar matriserna B och C\n",
    "B = np.arange(1, 10).reshape(3, 3)\n",
    "C = np.ones((3, 3)) * 2\n",
    "\n",
    "# Elementvis subtraktion\n",
    "elementwise_subtraction = B - C\n",
    "\n",
    "# Elementvis multiplikation\n",
    "elementwise_multiplication = B * C\n",
    "\n",
    "# Matris-multiplikation\n",
    "matrix_multiplication = B @ C\n",
    "\n",
    "# Skriver ut resultaten\n",
    "print(\"Matris B:\")\n",
    "print(B)\n",
    "print(\"\\nMatris C:\")\n",
    "print(C)\n",
    "print(\"\\nElementvis subtraktion (B - C):\")\n",
    "print(elementwise_subtraction)\n",
    "print(\"\\nElementvis multiplikation (B * C):\")\n",
    "print(elementwise_multiplication)\n",
    "print(\"\\nMatris-multiplikation (B @ C):\")\n",
    "print(matrix_multiplication)\n"
   ]
  },
  {
   "cell_type": "markdown",
   "id": "96030d53",
   "metadata": {},
   "source": [
    "### Do the following calculations on the matrix:\n",
    "* Exponentiate each number elementwise (use the np.exp function).\n",
    "\n",
    "* Calculate the minimum value in the whole matrix. \n",
    "* Calculcate the minimum value in each row. \n",
    "* Calculcate the minimum value in each column. \n",
    "\n",
    "\n",
    "* Find the index value for the minimum value in the whole matrix (hint: use np.argmin).\n",
    "* Find the index value for the minimum value in each row (hint: use np.argmin).\n",
    "\n",
    "\n",
    "* Calculate the sum for all elements.\n",
    "* Calculate the mean for each column. \n",
    "* Calculate the median for each column. "
   ]
  },
  {
   "cell_type": "code",
   "execution_count": 55,
   "id": "f8a9166b",
   "metadata": {},
   "outputs": [
    {
     "name": "stdout",
     "output_type": "stream",
     "text": [
      "[[1 2 3]\n",
      " [4 5 6]\n",
      " [7 8 9]]\n"
     ]
    }
   ],
   "source": [
    "B = np.arange(1, 10).reshape(3, 3)\n",
    "print(B)"
   ]
  },
  {
   "cell_type": "code",
   "execution_count": 56,
   "id": "f03f24f7",
   "metadata": {},
   "outputs": [
    {
     "data": {
      "text/plain": [
       "array([[2.71828183e+00, 7.38905610e+00, 2.00855369e+01],\n",
       "       [5.45981500e+01, 1.48413159e+02, 4.03428793e+02],\n",
       "       [1.09663316e+03, 2.98095799e+03, 8.10308393e+03]])"
      ]
     },
     "execution_count": 56,
     "metadata": {},
     "output_type": "execute_result"
    }
   ],
   "source": [
    "np.exp(B)"
   ]
  },
  {
   "cell_type": "code",
   "execution_count": 59,
   "id": "cef46c9e",
   "metadata": {},
   "outputs": [
    {
     "data": {
      "text/plain": [
       "1"
      ]
     },
     "execution_count": 59,
     "metadata": {},
     "output_type": "execute_result"
    }
   ],
   "source": [
    "B.min()"
   ]
  },
  {
   "cell_type": "code",
   "execution_count": 60,
   "id": "13d28c21",
   "metadata": {},
   "outputs": [
    {
     "data": {
      "text/plain": [
       "array([1, 2, 3])"
      ]
     },
     "execution_count": 60,
     "metadata": {},
     "output_type": "execute_result"
    }
   ],
   "source": [
    "B.min(axis=0)"
   ]
  },
  {
   "cell_type": "code",
   "execution_count": 61,
   "id": "5cda16c7",
   "metadata": {},
   "outputs": [
    {
     "data": {
      "text/plain": [
       "0"
      ]
     },
     "execution_count": 61,
     "metadata": {},
     "output_type": "execute_result"
    }
   ],
   "source": [
    "B.argmin()"
   ]
  },
  {
   "cell_type": "code",
   "execution_count": 62,
   "id": "91a9ff11",
   "metadata": {},
   "outputs": [
    {
     "data": {
      "text/plain": [
       "array([0, 0, 0], dtype=int64)"
      ]
     },
     "execution_count": 62,
     "metadata": {},
     "output_type": "execute_result"
    }
   ],
   "source": [
    "B.argmin(axis=1)"
   ]
  },
  {
   "cell_type": "code",
   "execution_count": 63,
   "id": "03bf5541",
   "metadata": {},
   "outputs": [
    {
     "data": {
      "text/plain": [
       "45"
      ]
     },
     "execution_count": 63,
     "metadata": {},
     "output_type": "execute_result"
    }
   ],
   "source": [
    "B.sum()"
   ]
  },
  {
   "cell_type": "code",
   "execution_count": 64,
   "id": "27d02288",
   "metadata": {},
   "outputs": [
    {
     "data": {
      "text/plain": [
       "array([4., 5., 6.])"
      ]
     },
     "execution_count": 64,
     "metadata": {},
     "output_type": "execute_result"
    }
   ],
   "source": [
    "np.mean(B, axis=0)"
   ]
  },
  {
   "cell_type": "code",
   "execution_count": 65,
   "id": "2ea32bfc",
   "metadata": {},
   "outputs": [
    {
     "data": {
      "text/plain": [
       "array([4., 5., 6.])"
      ]
     },
     "execution_count": 65,
     "metadata": {},
     "output_type": "execute_result"
    }
   ],
   "source": [
    "np.median(B, axis=0)"
   ]
  },
  {
   "cell_type": "markdown",
   "id": "541eb7ba",
   "metadata": {},
   "source": [
    "### What does it mean when you provide fewer indices than axes when slicing? See example below."
   ]
  },
  {
   "cell_type": "code",
   "execution_count": 57,
   "id": "9c8abf56",
   "metadata": {},
   "outputs": [
    {
     "name": "stdout",
     "output_type": "stream",
     "text": [
      "[[1 2]\n",
      " [2 4]]\n"
     ]
    }
   ],
   "source": [
    "print(A)"
   ]
  },
  {
   "cell_type": "code",
   "execution_count": 58,
   "id": "69415f7b",
   "metadata": {},
   "outputs": [
    {
     "data": {
      "text/plain": [
       "array([2, 4])"
      ]
     },
     "execution_count": 58,
     "metadata": {},
     "output_type": "execute_result"
    }
   ],
   "source": [
    "A[1]"
   ]
  },
  {
   "cell_type": "markdown",
   "id": "6c53541b",
   "metadata": {},
   "source": [
    "**Answer:**"
   ]
  },
  {
   "cell_type": "code",
   "execution_count": null,
   "id": "de01e120",
   "metadata": {},
   "outputs": [],
   "source": [
    "Det innebär att vi hämtar alla värden från de axlar där vi inte specificerade något index.\n",
    "\n",
    "Eftersom vi inte specificerade något index för den andra axeln (kolumnerna), får vi tillbaka hela raden.\n",
    "\n",
    "Vi får den andra raden eftersom vi använder index [1]."
   ]
  },
  {
   "cell_type": "markdown",
   "id": "6652d0c9",
   "metadata": {},
   "source": [
    "### Iterating over multidimensional arrays is done with respect to the first axis, so in the example below we iterate trough the rows. If you would like to iterate through the array *elementwise*, how would you do that?"
   ]
  },
  {
   "cell_type": "code",
   "execution_count": 67,
   "id": "9459864f",
   "metadata": {},
   "outputs": [
    {
     "data": {
      "text/plain": [
       "array([[1, 2],\n",
       "       [2, 4]])"
      ]
     },
     "execution_count": 67,
     "metadata": {},
     "output_type": "execute_result"
    }
   ],
   "source": [
    "A"
   ]
  },
  {
   "cell_type": "code",
   "execution_count": 66,
   "id": "a671bb5a",
   "metadata": {},
   "outputs": [
    {
     "name": "stdout",
     "output_type": "stream",
     "text": [
      "[1 2]\n",
      "[2 4]\n"
     ]
    }
   ],
   "source": [
    "for i in A:\n",
    "    print(i)"
   ]
  },
  {
   "cell_type": "code",
   "execution_count": 68,
   "id": "f4e443a0",
   "metadata": {},
   "outputs": [
    {
     "name": "stdout",
     "output_type": "stream",
     "text": [
      "1\n",
      "2\n",
      "2\n",
      "4\n"
     ]
    }
   ],
   "source": [
    "for elemnet in np.nditer(A):\n",
    "    print(elemnet)"
   ]
  },
  {
   "cell_type": "markdown",
   "id": "608a2583",
   "metadata": {},
   "source": [
    "### Explain what the code below does. More specifically, b has three axes - what does this mean? "
   ]
  },
  {
   "cell_type": "code",
   "execution_count": 70,
   "id": "f8f9b26f",
   "metadata": {},
   "outputs": [
    {
     "name": "stdout",
     "output_type": "stream",
     "text": [
      "[ 0  1  2  3  4  5  6  7  8  9 10 11 12 13 14 15 16 17 18 19 20 21 22 23\n",
      " 24 25 26 27 28 29]\n",
      "\n",
      "[[[ 0  1  2  3  4]\n",
      "  [ 5  6  7  8  9]\n",
      "  [10 11 12 13 14]]\n",
      "\n",
      " [[15 16 17 18 19]\n",
      "  [20 21 22 23 24]\n",
      "  [25 26 27 28 29]]]\n"
     ]
    }
   ],
   "source": [
    "a = np.arange(30)\n",
    "b = a.reshape((2, 3, -1))\n",
    "print(a)\n",
    "print()\n",
    "\n",
    "print(b)"
   ]
  },
  {
   "cell_type": "code",
   "execution_count": null,
   "id": "863a45df",
   "metadata": {},
   "outputs": [],
   "source": [
    "Koden skapar först en array \n",
    "𝑎\n",
    "a med 30 element, från 0 till 29, med hjälp av np.arange(30).\n",
    "\n",
    "Sedan omformas \n",
    "𝑎\n",
    "a till en ny array \n",
    "𝑏\n",
    "b med tre axlar (dimensioner) med hjälp av reshape((2, 3, -1)). Det betyder att:\n",
    "\n",
    "𝑏\n",
    "b kommer att ha 2 \"block\" (första axeln),\n",
    "Varje \"block\" har 3 rader (andra axeln),\n",
    "Antalet kolumner (den tredje axeln) beräknas automatiskt av NumPy baserat på hur många element som finns kvar (i detta fall blir det 5 kolumner).\n",
    "Så \n",
    "𝑏\n",
    "b är en 3D-array med dimensionerna \n",
    "2\n",
    "×\n",
    "3\n",
    "×\n",
    "5\n",
    "2×3×5."
   ]
  },
  {
   "cell_type": "markdown",
   "id": "ab5933d5",
   "metadata": {},
   "source": [
    "### Broadcasting\n",
    "**Read the following link about broadcasting: https://numpy.org/doc/stable/user/basics.broadcasting.html#basics-broadcasting**"
   ]
  },
  {
   "cell_type": "markdown",
   "id": "039805ba",
   "metadata": {},
   "source": [
    "# Remark on Broadcasting when doing Linear Algebra calculations in Python. "
   ]
  },
  {
   "cell_type": "markdown",
   "id": "c4bcc147",
   "metadata": {},
   "source": [
    "### From the mathematical rules of matrix addition, the operation below (m1 + m2) does not make sense. The reason is that matrix addition requires two matrices of the same size. In Python however, it works due to broadcasting rules in NumPy. So you must be careful when doing Linear Algebra calculations in Python since they do not follow the \"mathematical rules\". This can however easily be handled by doing some simple programming, for example validating that two matrices have the same shape is easy if you for instance want to add two matrices. "
   ]
  },
  {
   "cell_type": "code",
   "execution_count": null,
   "id": "1fd46778",
   "metadata": {},
   "outputs": [],
   "source": [
    "m1 = np.array([[1, 2], [3, 4]])\n",
    "m2 = np.array([1, 1])\n",
    "print(m1 + m2)"
   ]
  },
  {
   "cell_type": "markdown",
   "id": "047d6576",
   "metadata": {},
   "source": [
    "### The example below would also not be allowed if following the \"mathematical rules\" in Linear Algebra. But it works due to broadcasting in NumPy. "
   ]
  },
  {
   "cell_type": "code",
   "execution_count": 71,
   "id": "5e6ef2e4",
   "metadata": {},
   "outputs": [
    {
     "name": "stdout",
     "output_type": "stream",
     "text": [
      "[2 3 4]\n"
     ]
    }
   ],
   "source": [
    "v1 = np.array([1, 2, 3])\n",
    "print(v1 + 1)"
   ]
  },
  {
   "cell_type": "code",
   "execution_count": 85,
   "id": "e2cbae26",
   "metadata": {},
   "outputs": [
    {
     "name": "stdout",
     "output_type": "stream",
     "text": [
      "[[1 2]\n",
      " [3 4]]\n",
      "[2 2]\n"
     ]
    }
   ],
   "source": [
    "A = np.arange(1, 5).reshape(2,2)\n",
    "print(A)\n",
    "\n",
    "b = np.array([2, 2])\n",
    "print(b)"
   ]
  },
  {
   "cell_type": "markdown",
   "id": "722fd5cd",
   "metadata": {},
   "source": [
    "# Vector- and matrix algebra Exercises"
   ]
  },
  {
   "cell_type": "markdown",
   "id": "b63a3081-d976-4d9f-bfd0-a63917e79f7d",
   "metadata": {},
   "source": [
    "**Now you are going to create a function that can be reused every time you add or multiply matrices. The function is created so that we do the addition and multiplication according to the rules of vector- and matrix algebra.**\n",
    "\n",
    "**Create a function \"add_mult_matrices\" that takes two matrices as input arguments (validate that the input are of the type numpy.ndarray by using the isinstance function), a third argument that is either 'add' or 'multiply' that specifies if you want to add or multiply the matrices (validate that the third argument is either 'add' or 'multiply'). When doing matrix addition, validate that the matrices have the same size. When doing matrix multiplication, validate that the sizes conform (i.e. number of columns in the first matrix is equal to the number of rows in the second matrix).**"
   ]
  },
  {
   "cell_type": "code",
   "execution_count": 6,
   "id": "3506f977-ac0a-473f-85bc-eec9f35dc498",
   "metadata": {},
   "outputs": [
    {
     "name": "stdout",
     "output_type": "stream",
     "text": [
      "Addition Result:\n",
      "[[ 3.  4.  5.]\n",
      " [ 6.  7.  8.]\n",
      " [ 9. 10. 11.]]\n",
      "\n",
      "Multiplication Result:\n",
      "[[12. 12. 12.]\n",
      " [30. 30. 30.]\n",
      " [48. 48. 48.]]\n"
     ]
    }
   ],
   "source": [
    "import numpy as np\n",
    "\n",
    "def add_mult_matrices(mat1, mat2, operation):\n",
    "    # Validate that the input are of type numpy.ndarray\n",
    "    if not isinstance(mat1, np.ndarray) or not isinstance(mat2, np.ndarray):\n",
    "        raise ValueError(\"Both inputs must be of type numpy.ndarray\")\n",
    "    \n",
    "    # Validate that the third argument is either 'add' or 'multiply'\n",
    "    if operation not in ['add', 'multiply']:\n",
    "        raise ValueError(\"The operation must be either 'add' or 'multiply'\")\n",
    "    \n",
    "    if operation == 'add':\n",
    "        # Validate that the matrices have the same size for addition\n",
    "        if mat1.shape != mat2.shape:\n",
    "            raise ValueError(\"Matrices must have the same shape for addition\")\n",
    "        # Perform elementwise addition\n",
    "        return mat1 + mat2\n",
    "    \n",
    "    elif operation == 'multiply':\n",
    "        # Validate that the sizes conform for matrix multiplication\n",
    "        if mat1.shape[1] != mat2.shape[0]:\n",
    "            raise ValueError(\"For matrix multiplication, the number of columns in the first matrix must equal the number of rows in the second matrix\")\n",
    "        # Perform matrix multiplication\n",
    "        return mat1 @ mat2\n",
    "\n",
    "# Example usage\n",
    "B = np.arange(1, 10).reshape(3, 3)\n",
    "C = np.ones((3, 3)) * 2\n",
    "\n",
    "# Add the matrices\n",
    "add_result = add_mult_matrices(B, C, 'add')\n",
    "\n",
    "# Multiply the matrices\n",
    "mult_result = add_mult_matrices(B, C, 'multiply')\n",
    "\n",
    "print(\"Addition Result:\")\n",
    "print(add_result)\n",
    "\n",
    "print(\"\\nMultiplication Result:\")\n",
    "print(mult_result)\n"
   ]
  },
  {
   "cell_type": "markdown",
   "id": "8dad82d0-2359-4dff-8f5b-a57d3e34103c",
   "metadata": {},
   "source": [
    "### Solve all the exercises in chapter 10.1 in the book \"Matematik för yrkeshögskolan\". "
   ]
  },
  {
   "cell_type": "code",
   "execution_count": 8,
   "id": "89df88af-3668-4d98-a0a4-e6d92eea0f89",
   "metadata": {},
   "outputs": [
    {
     "data": {
      "text/plain": [
       "array([4, 3])"
      ]
     },
     "execution_count": 8,
     "metadata": {},
     "output_type": "execute_result"
    }
   ],
   "source": [
    "x = np.array([4,3])\n",
    "x"
   ]
  },
  {
   "cell_type": "code",
   "execution_count": 9,
   "id": "107d9920",
   "metadata": {},
   "outputs": [
    {
     "data": {
      "text/plain": [
       "array([20, 15])"
      ]
     },
     "execution_count": 9,
     "metadata": {},
     "output_type": "execute_result"
    }
   ],
   "source": [
    "5 * x"
   ]
  },
  {
   "cell_type": "code",
   "execution_count": 10,
   "id": "c22b5117",
   "metadata": {},
   "outputs": [
    {
     "data": {
      "text/plain": [
       "array([12,  9])"
      ]
     },
     "execution_count": 10,
     "metadata": {},
     "output_type": "execute_result"
    }
   ],
   "source": [
    "3 * x"
   ]
  },
  {
   "cell_type": "code",
   "execution_count": 11,
   "id": "95ebc60a",
   "metadata": {},
   "outputs": [
    {
     "data": {
      "text/plain": [
       "array([32, 24])"
      ]
     },
     "execution_count": 11,
     "metadata": {},
     "output_type": "execute_result"
    }
   ],
   "source": [
    "5 * x + 3 * x"
   ]
  },
  {
   "cell_type": "code",
   "execution_count": 12,
   "id": "12a8bfcc",
   "metadata": {},
   "outputs": [
    {
     "data": {
      "text/plain": [
       "array([32, 24])"
      ]
     },
     "execution_count": 12,
     "metadata": {},
     "output_type": "execute_result"
    }
   ],
   "source": [
    "8 * x"
   ]
  },
  {
   "cell_type": "code",
   "execution_count": 13,
   "id": "a5abf1d5",
   "metadata": {},
   "outputs": [
    {
     "data": {
      "text/plain": [
       "array([12,  9])"
      ]
     },
     "execution_count": 13,
     "metadata": {},
     "output_type": "execute_result"
    }
   ],
   "source": [
    "4 * x - x"
   ]
  },
  {
   "cell_type": "code",
   "execution_count": 14,
   "id": "d9d0166f",
   "metadata": {},
   "outputs": [
    {
     "data": {
      "text/plain": [
       "array([4, 3])"
      ]
     },
     "execution_count": 14,
     "metadata": {},
     "output_type": "execute_result"
    }
   ],
   "source": [
    "x.T"
   ]
  },
  {
   "cell_type": "code",
   "execution_count": 15,
   "id": "7f9cacf8",
   "metadata": {},
   "outputs": [
    {
     "data": {
      "text/plain": [
       "(2,)"
      ]
     },
     "execution_count": 15,
     "metadata": {},
     "output_type": "execute_result"
    }
   ],
   "source": [
    "x.T.shape"
   ]
  },
  {
   "cell_type": "code",
   "execution_count": 16,
   "id": "58c32ae3",
   "metadata": {},
   "outputs": [
    {
     "data": {
      "text/plain": [
       "array([8, 6])"
      ]
     },
     "execution_count": 16,
     "metadata": {},
     "output_type": "execute_result"
    }
   ],
   "source": [
    "x + x.T"
   ]
  },
  {
   "cell_type": "code",
   "execution_count": 17,
   "id": "ffab6598",
   "metadata": {},
   "outputs": [
    {
     "data": {
      "text/plain": [
       "5.0"
      ]
     },
     "execution_count": 17,
     "metadata": {},
     "output_type": "execute_result"
    }
   ],
   "source": [
    "np.linalg.norm(x)"
   ]
  },
  {
   "cell_type": "code",
   "execution_count": null,
   "id": "6a8bdb4c",
   "metadata": {},
   "outputs": [],
   "source": [
    "10.1.2"
   ]
  },
  {
   "cell_type": "code",
   "execution_count": 18,
   "id": "65371610-16e1-48b2-b7fb-65e49002608a",
   "metadata": {},
   "outputs": [],
   "source": [
    "v = np.array([3, 7, 0, 11])"
   ]
  },
  {
   "cell_type": "code",
   "execution_count": 19,
   "id": "02e707f6",
   "metadata": {},
   "outputs": [
    {
     "name": "stdout",
     "output_type": "stream",
     "text": [
      "Dimension of v: 4\n"
     ]
    }
   ],
   "source": [
    "dimension_v = v.shape[0]\n",
    "print(\"Dimension of v:\", dimension_v)"
   ]
  },
  {
   "cell_type": "code",
   "execution_count": 20,
   "id": "614553af",
   "metadata": {},
   "outputs": [
    {
     "name": "stdout",
     "output_type": "stream",
     "text": [
      "2v: [ 6 14  0 22]\n"
     ]
    }
   ],
   "source": [
    "two_v = 2 * v\n",
    "print(\"2v:\", two_v)"
   ]
  },
  {
   "cell_type": "code",
   "execution_count": 21,
   "id": "f4946fb9",
   "metadata": {},
   "outputs": [
    {
     "name": "stdout",
     "output_type": "stream",
     "text": [
      "5v + 2v: [21 49  0 77]\n"
     ]
    }
   ],
   "source": [
    "five_v = 5 * v\n",
    "five_v_plus_two_v = five_v + two_v\n",
    "print(\"5v + 2v:\", five_v_plus_two_v)"
   ]
  },
  {
   "cell_type": "code",
   "execution_count": 22,
   "id": "df9b1f74",
   "metadata": {},
   "outputs": [
    {
     "name": "stdout",
     "output_type": "stream",
     "text": [
      "4v - 2v: [ 6 14  0 22]\n"
     ]
    }
   ],
   "source": [
    "four_v = 4 * v\n",
    "four_v_minus_two_v = four_v - two_v\n",
    "print(\"4v - 2v:\", four_v_minus_two_v)"
   ]
  },
  {
   "cell_type": "code",
   "execution_count": 23,
   "id": "8e8bef2d",
   "metadata": {},
   "outputs": [
    {
     "name": "stdout",
     "output_type": "stream",
     "text": [
      "Transpose of v (v^T):\n",
      "[[ 3  7  0 11]]\n"
     ]
    }
   ],
   "source": [
    "v_transpose = v.reshape(1, 4) \n",
    "print(\"Transpose of v (v^T):\")\n",
    "print(v_transpose)"
   ]
  },
  {
   "cell_type": "code",
   "execution_count": 24,
   "id": "b19f8f1e",
   "metadata": {},
   "outputs": [
    {
     "name": "stdout",
     "output_type": "stream",
     "text": [
      "||v|| (Norm of v): 13.379088160259652\n"
     ]
    }
   ],
   "source": [
    "norm_v = np.linalg.norm(v)\n",
    "print(\"||v|| (Norm of v):\", norm_v)"
   ]
  },
  {
   "cell_type": "code",
   "execution_count": 74,
   "id": "a79be01d",
   "metadata": {},
   "outputs": [
    {
     "ename": "SyntaxError",
     "evalue": "invalid syntax (1926620562.py, line 1)",
     "output_type": "error",
     "traceback": [
      "\u001b[1;36m  Cell \u001b[1;32mIn[74], line 1\u001b[1;36m\u001b[0m\n\u001b[1;33m    10.1.3\u001b[0m\n\u001b[1;37m        ^\u001b[0m\n\u001b[1;31mSyntaxError\u001b[0m\u001b[1;31m:\u001b[0m invalid syntax\n"
     ]
    }
   ],
   "source": [
    "10.1.3"
   ]
  },
  {
   "cell_type": "code",
   "execution_count": 75,
   "id": "3f95b23e",
   "metadata": {},
   "outputs": [],
   "source": [
    "v1 = np.array([4, 3, 1, 5])\n",
    "v2 = np.array([2, 3, 1, 1])"
   ]
  },
  {
   "cell_type": "code",
   "execution_count": 28,
   "id": "cb029fda",
   "metadata": {},
   "outputs": [
    {
     "name": "stdout",
     "output_type": "stream",
     "text": [
      "||v1|| (Norm of v1): 7.14142842854285\n"
     ]
    }
   ],
   "source": [
    "norm_v1 = np.linalg.norm(v1)\n",
    "print(\"||v1|| (Norm of v1):\", norm_v1)"
   ]
  },
  {
   "cell_type": "code",
   "execution_count": 27,
   "id": "4cdad3ff",
   "metadata": {},
   "outputs": [
    {
     "name": "stdout",
     "output_type": "stream",
     "text": [
      "||v1 - v2|| (Norm of v1 - v2): 4.47213595499958\n"
     ]
    }
   ],
   "source": [
    "v1_minus_v2 = v1 - v2\n",
    "norm_v1_minus_v2 = np.linalg.norm(v1_minus_v2)\n",
    "print(\"||v1 - v2|| (Norm of v1 - v2):\", norm_v1_minus_v2)"
   ]
  },
  {
   "cell_type": "code",
   "execution_count": null,
   "id": "a355337a",
   "metadata": {},
   "outputs": [],
   "source": [
    "### Solve all the exercises, except 10.2.4, in chapter 10.2 in the book \"Matematik för yrkeshögskolan\". "
   ]
  },
  {
   "cell_type": "code",
   "execution_count": 30,
   "id": "5376e4ae",
   "metadata": {},
   "outputs": [],
   "source": [
    "import numpy as np\n",
    "\n",
    "\n",
    "A = np.array([[2, 1, -1], [1, -1, 1]])\n",
    "B = np.array([[4, -2, 1], [2, -4, -2]])\n",
    "C = np.array([[1, 2], [2, 1]])\n",
    "D = np.array([[3, 4], [4, 3]])\n",
    "E = np.array([[1, 2], [1, 2]])\n",
    "I = np.array([[1, 0], [0, 1]])\n",
    "\n"
   ]
  },
  {
   "cell_type": "code",
   "execution_count": 31,
   "id": "4523f9c7",
   "metadata": {},
   "outputs": [
    {
     "name": "stdout",
     "output_type": "stream",
     "text": [
      "2A:\n",
      " [[ 4  2 -2]\n",
      " [ 2 -2  2]]\n"
     ]
    }
   ],
   "source": [
    "two_A = 2 * A\n",
    "print(\"2A:\\n\", two_A)\n"
   ]
  },
  {
   "cell_type": "code",
   "execution_count": 32,
   "id": "a71f4208",
   "metadata": {},
   "outputs": [
    {
     "name": "stdout",
     "output_type": "stream",
     "text": [
      "B - 2A:\n",
      " [[ 0 -4  3]\n",
      " [ 0 -2 -4]]\n"
     ]
    }
   ],
   "source": [
    "B_minus_2A = B - 2 * A\n",
    "print(\"B - 2A:\\n\", B_minus_2A)\n"
   ]
  },
  {
   "cell_type": "code",
   "execution_count": 33,
   "id": "1f04a2cd",
   "metadata": {},
   "outputs": [
    {
     "name": "stdout",
     "output_type": "stream",
     "text": [
      "3C - 2E:\n",
      " [[ 1  2]\n",
      " [ 4 -1]]\n"
     ]
    }
   ],
   "source": [
    "three_C_minus_two_E = 3 * C - 2 * E\n",
    "print(\"3C - 2E:\\n\", three_C_minus_two_E)\n"
   ]
  },
  {
   "cell_type": "code",
   "execution_count": 34,
   "id": "b4396776",
   "metadata": {},
   "outputs": [
    {
     "name": "stdout",
     "output_type": "stream",
     "text": [
      "2D - 3C:\n",
      " [[3 2]\n",
      " [2 3]]\n"
     ]
    }
   ],
   "source": [
    "two_D_minus_three_C = 2 * D - 3 * C\n",
    "print(\"2D - 3C:\\n\", two_D_minus_three_C)\n"
   ]
  },
  {
   "cell_type": "code",
   "execution_count": 38,
   "id": "63ec676a",
   "metadata": {},
   "outputs": [
    {
     "name": "stdout",
     "output_type": "stream",
     "text": [
      "D^T + 2D:\n",
      " [[ 9 12]\n",
      " [12  9]]\n"
     ]
    }
   ],
   "source": [
    "D_T_plus_2D = D.T + 2 * D\n",
    "print(\"D^T + 2D:\\n\", D_T_plus_2D)\n"
   ]
  },
  {
   "cell_type": "code",
   "execution_count": 40,
   "id": "591f47b6",
   "metadata": {},
   "outputs": [
    {
     "name": "stdout",
     "output_type": "stream",
     "text": [
      "2C^T - 2D^T:\n",
      " [[-4 -4]\n",
      " [-4 -4]]\n"
     ]
    }
   ],
   "source": [
    "two_C_T_minus_two_D_T = 2 * C.T - 2 * D.T\n",
    "print(\"2C^T - 2D^T:\\n\", two_C_T_minus_two_D_T)\n"
   ]
  },
  {
   "cell_type": "code",
   "execution_count": 80,
   "id": "7e144f7a",
   "metadata": {},
   "outputs": [
    {
     "ename": "ValueError",
     "evalue": "operands could not be broadcast together with shapes (2,2) (3,3) ",
     "output_type": "error",
     "traceback": [
      "\u001b[1;31m---------------------------------------------------------------------------\u001b[0m",
      "\u001b[1;31mValueError\u001b[0m                                Traceback (most recent call last)",
      "Cell \u001b[1;32mIn[80], line 1\u001b[0m\n\u001b[1;32m----> 1\u001b[0m A_T_minus_B \u001b[38;5;241m=\u001b[39m A\u001b[38;5;241m.\u001b[39mT \u001b[38;5;241m-\u001b[39m B\n\u001b[0;32m      2\u001b[0m \u001b[38;5;28mprint\u001b[39m(\u001b[38;5;124m\"\u001b[39m\u001b[38;5;124mA^T - B:\u001b[39m\u001b[38;5;130;01m\\n\u001b[39;00m\u001b[38;5;124m\"\u001b[39m, A_T_minus_B)\n",
      "\u001b[1;31mValueError\u001b[0m: operands could not be broadcast together with shapes (2,2) (3,3) "
     ]
    }
   ],
   "source": [
    "A_T_minus_B = A.T - B\n",
    "print(\"A^T - B:\\n\", A_T_minus_B)\n"
   ]
  },
  {
   "cell_type": "code",
   "execution_count": 76,
   "id": "a7ac7af6",
   "metadata": {},
   "outputs": [
    {
     "data": {
      "text/plain": [
       "array([[ 4,  7],\n",
       "       [12, 17]])"
      ]
     },
     "execution_count": 76,
     "metadata": {},
     "output_type": "execute_result"
    }
   ],
   "source": [
    "np.dot(A, C)"
   ]
  },
  {
   "cell_type": "code",
   "execution_count": 43,
   "id": "f3024eb4",
   "metadata": {},
   "outputs": [
    {
     "name": "stdout",
     "output_type": "stream",
     "text": [
      "CD:\n",
      " [[11 10]\n",
      " [10 11]]\n"
     ]
    }
   ],
   "source": [
    "CD = np.dot(C, D)\n",
    "print(\"CD:\\n\", CD)\n"
   ]
  },
  {
   "cell_type": "code",
   "execution_count": 44,
   "id": "59aba575",
   "metadata": {},
   "outputs": [
    {
     "name": "stdout",
     "output_type": "stream",
     "text": [
      "CB:\n",
      " [[  8 -10  -3]\n",
      " [ 10  -8   0]]\n"
     ]
    }
   ],
   "source": [
    "CB = np.dot(C, B)\n",
    "print(\"CB:\\n\", CB)\n"
   ]
  },
  {
   "cell_type": "code",
   "execution_count": 45,
   "id": "f4201d33",
   "metadata": {},
   "outputs": [
    {
     "name": "stdout",
     "output_type": "stream",
     "text": [
      "CI:\n",
      " [[1 2]\n",
      " [2 1]]\n"
     ]
    }
   ],
   "source": [
    "CI = np.dot(C, I)\n",
    "print(\"CI:\\n\", CI)\n"
   ]
  },
  {
   "cell_type": "code",
   "execution_count": 46,
   "id": "f2825368",
   "metadata": {},
   "outputs": [
    {
     "name": "stdout",
     "output_type": "stream",
     "text": [
      "AB^T:\n",
      " [[5 2]\n",
      " [7 4]]\n"
     ]
    }
   ],
   "source": [
    "AB_T = np.dot(A, B.T)\n",
    "print(\"AB^T:\\n\", AB_T)\n"
   ]
  },
  {
   "cell_type": "code",
   "execution_count": null,
   "id": "3ce2cc25",
   "metadata": {},
   "outputs": [],
   "source": [
    "Uppgift 10.2.2"
   ]
  },
  {
   "cell_type": "code",
   "execution_count": 47,
   "id": "08adcc52",
   "metadata": {},
   "outputs": [],
   "source": [
    "A = np.array([[2, 3, 4], [5, 4, 1]])\n"
   ]
  },
  {
   "cell_type": "code",
   "execution_count": 48,
   "id": "7bbf4819",
   "metadata": {},
   "outputs": [
    {
     "name": "stdout",
     "output_type": "stream",
     "text": [
      "A * A^T:\n",
      " [[29 26]\n",
      " [26 42]]\n"
     ]
    }
   ],
   "source": [
    "A_A_T = np.dot(A, A.T)\n",
    "print(\"A * A^T:\\n\", A_A_T)"
   ]
  },
  {
   "cell_type": "code",
   "execution_count": null,
   "id": "8ad5f4a8",
   "metadata": {},
   "outputs": [],
   "source": [
    "Uppgift 10.2.3"
   ]
  },
  {
   "cell_type": "code",
   "execution_count": 50,
   "id": "e40ea120",
   "metadata": {},
   "outputs": [],
   "source": [
    "A = np.array([[1, 2], [2, 4]])\n",
    "B = np.array([[2, 1], [1, 3]])\n",
    "C = np.array([[4, 3], [0, 2]])"
   ]
  },
  {
   "cell_type": "code",
   "execution_count": 51,
   "id": "1a955e53",
   "metadata": {},
   "outputs": [],
   "source": [
    "AB = np.dot(A, B)\n",
    "AC = np.dot(A, C)"
   ]
  },
  {
   "cell_type": "code",
   "execution_count": 52,
   "id": "458cbd00",
   "metadata": {},
   "outputs": [
    {
     "name": "stdout",
     "output_type": "stream",
     "text": [
      "AB:\n",
      " [[ 4  7]\n",
      " [ 8 14]]\n",
      "AC:\n",
      " [[ 4  7]\n",
      " [ 8 14]]\n"
     ]
    }
   ],
   "source": [
    "print(\"AB:\\n\", AB)\n",
    "print(\"AC:\\n\", AC)"
   ]
  },
  {
   "cell_type": "code",
   "execution_count": 54,
   "id": "8cd13aad",
   "metadata": {},
   "outputs": [
    {
     "name": "stdout",
     "output_type": "stream",
     "text": [
      "Is B equal to C? False\n"
     ]
    }
   ],
   "source": [
    "B_equals_C = np.array_equal(B, C)\n",
    "print(\"Is B equal to C?\", B_equals_C)\n"
   ]
  },
  {
   "cell_type": "markdown",
   "id": "6a4a524f",
   "metadata": {},
   "source": [
    "### Copies and Views\n",
    "Read the following link: https://numpy.org/doc/stable/user/basics.copies.html"
   ]
  },
  {
   "cell_type": "markdown",
   "id": "6cbbeaf7",
   "metadata": {},
   "source": [
    "**Basic indexing creates a view, How can you check if v1 and v2 is a view or copy? If you change the last element in v2 to 123, will the last element in v1 be changed? Why?**"
   ]
  },
  {
   "cell_type": "code",
   "execution_count": 81,
   "id": "5b9ef4df",
   "metadata": {},
   "outputs": [
    {
     "name": "stdout",
     "output_type": "stream",
     "text": [
      "[0 1 2 3]\n",
      "[2 3]\n"
     ]
    }
   ],
   "source": [
    "v1 = np.arange(4)\n",
    "v2 = v1[-2:]\n",
    "print(v1)\n",
    "print(v2)"
   ]
  },
  {
   "cell_type": "code",
   "execution_count": 82,
   "id": "d2440489",
   "metadata": {},
   "outputs": [
    {
     "name": "stdout",
     "output_type": "stream",
     "text": [
      "None\n",
      "[0 1 2 3]\n"
     ]
    }
   ],
   "source": [
    "# The base attribute of a view returns the original array while it returns None for a copy.\n",
    "print(v1.base)\n",
    "print(v2.base)"
   ]
  },
  {
   "cell_type": "code",
   "execution_count": 83,
   "id": "c8752807",
   "metadata": {},
   "outputs": [
    {
     "name": "stdout",
     "output_type": "stream",
     "text": [
      "[  0   1   2 123]\n",
      "[  2 123]\n"
     ]
    }
   ],
   "source": [
    "# The last element in v1 will be changed aswell since v2 is a view, meaning they share the same data buffer.\n",
    "v2[-1] = 123\n",
    "print(v1)\n",
    "print(v2)"
   ]
  },
  {
   "cell_type": "code",
   "execution_count": null,
   "id": "3dd68221",
   "metadata": {},
   "outputs": [],
   "source": [
    "Vi undersöker om v1 och v2 är en view eller en copy genom att använda .base-attributet.\n",
    "\n",
    "Om .base returnerar None, betyder det att arrayen är en copy, men om .base returnerar den ursprungliga arrayen betyder det att det är en view.\n",
    "\n",
    "När vi ändrar sista elementet i v2 till 123, ändras även sista elementet i v1 till 123.\n",
    "\n",
    "Detta beror på att v2 är en view av v1 eftersom \"basic indexing\" skapar en view.\n",
    "\n",
    "Det innebär att v2 och v1 delar samma underliggande data, så alla ändringar i v2 påverkar också direkt v1."
   ]
  }
 ],
 "metadata": {
  "kernelspec": {
   "display_name": "base",
   "language": "python",
   "name": "python3"
  },
  "language_info": {
   "codemirror_mode": {
    "name": "ipython",
    "version": 3
   },
   "file_extension": ".py",
   "mimetype": "text/x-python",
   "name": "python",
   "nbconvert_exporter": "python",
   "pygments_lexer": "ipython3",
   "version": "3.12.4"
  }
 },
 "nbformat": 4,
 "nbformat_minor": 5
}
